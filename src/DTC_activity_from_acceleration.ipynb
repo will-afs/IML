{
  "cells": [
    {
      "cell_type": "markdown",
      "metadata": {
        "id": "AX-d1PIO4Hbn"
      },
      "source": [
        "#Test decision tree classifyer over digits dataset"
      ]
    },
    {
      "cell_type": "code",
      "execution_count": 2,
      "metadata": {},
      "outputs": [
        {
          "name": "stdout",
          "output_type": "stream",
          "text": [
            "\n",
            "================================\n",
            "Decisions Tree Classifier\n",
            "================================\n",
            "\n",
            "Sample usage of Decisions Tree Classifications.\n",
            "This notebook is all about finding the best tuning with the DTC model,\n",
            "for predicting activities types in function of acceleration measurements.\n",
            "\n",
            "It will plot the decision boundaries for each class.\n",
            "\n"
          ]
        }
      ],
      "source": [
        "\"\"\"\n",
        "================================\n",
        "Decisions Tree Classifier\n",
        "================================\n",
        "\n",
        "Sample usage of Decisions Tree Classifications.\n",
        "This notebook is all about finding the best tuning with the DTC model,\n",
        "for predicting activities types in function of acceleration measurements.\n",
        "\n",
        "It will plot the decision boundaries for each class.\n",
        "\"\"\"\n",
        "print(__doc__)"
      ]
    },
    {
      "cell_type": "code",
      "execution_count": 3,
      "metadata": {},
      "outputs": [],
      "source": [
        "# Import statements\n",
        "\n",
        "import pandas as pd\n",
        "from sklearn import tree\n",
        "import random\n",
        "from sklearn.model_selection import train_test_split\n",
        "from sklearn.metrics import confusion_matrix"
      ]
    },
    {
      "cell_type": "code",
      "execution_count": 4,
      "metadata": {
        "colab": {
          "base_uri": "https://localhost:8080/"
        },
        "id": "c4PV4Lge3_ts",
        "outputId": "e30aad81-da71-4d13-b373-b70195a11ab0"
      },
      "outputs": [],
      "source": [
        "# Import raw data\n",
        "data_path = '../data/cleaned_data/full_with_act_1_transitory_regimes_cleaned.csv'\n",
        "data =pd.read_csv(data_path,header=None,delimiter=',').astype(int)\n",
        "\n",
        "X = data.values[:,1:4]\n",
        "Y = data.values[:,4]"
      ]
    },
    {
      "cell_type": "code",
      "execution_count": 5,
      "metadata": {},
      "outputs": [
        {
          "name": "stdout",
          "output_type": "stream",
          "text": [
            "*** DATA HEAD ***\n",
            "   0     1     2     3  4\n",
            "0  0  1502  2215  2153  1\n",
            "1  1  1667  2072  2047  1\n",
            "2  2  1611  1957  1906  1\n",
            "3  3  1601  1939  1831  1\n",
            "4  4  1643  1965  1879  1\n",
            "*** DATA DIMENSIONS ***\n",
            "(1923177, 5)\n",
            "*** X DIMENSIONS ***\n",
            "(1923177, 3)\n",
            "*** X ***\n",
            "[[1502 2215 2153]\n",
            " [1667 2072 2047]\n",
            " [1611 1957 1906]\n",
            " [1601 1939 1831]\n",
            " [1643 1965 1879]]\n",
            "*** Y DIMENSIONS ***\n",
            "(1923177,)\n",
            "*** X ***\n",
            "[1 1 1 1]\n"
          ]
        }
      ],
      "source": [
        "# Check whether data is well imported\n",
        "print(\"*** DATA HEAD ***\")\n",
        "print(data.head())\n",
        "print(\"*** DATA DIMENSIONS ***\")\n",
        "print(data.shape)\n",
        "print(\"*** X DIMENSIONS ***\")\n",
        "print(X.shape)\n",
        "print(\"*** X ***\")\n",
        "print(X[0:5,0:4])\n",
        "print(\"*** Y DIMENSIONS ***\")\n",
        "print(Y.shape)\n",
        "print(\"*** X ***\")\n",
        "print(Y[1:5])"
      ]
    },
    {
      "cell_type": "code",
      "execution_count": 6,
      "metadata": {},
      "outputs": [],
      "source": [
        "# We are in a classification problem\n",
        "max_leaf_nodes = 208\n",
        "X_train,X_test,Y_train,Y_test = train_test_split(X,Y,test_size=0.3,random_state=random.seed())\n",
        "clf = tree.DecisionTreeClassifier(max_leaf_nodes=max_leaf_nodes,criterion='entropy') # We specify to use DTC method"
      ]
    },
    {
      "cell_type": "code",
      "execution_count": 7,
      "metadata": {},
      "outputs": [
        {
          "data": {
            "text/plain": [
              "DecisionTreeClassifier(criterion='entropy', max_leaf_nodes=208)"
            ]
          },
          "execution_count": 7,
          "metadata": {},
          "output_type": "execute_result"
        }
      ],
      "source": [
        "# Train model\n",
        "clf.fit(X_train,Y_train) # Launching the model teaching"
      ]
    },
    {
      "cell_type": "code",
      "execution_count": 8,
      "metadata": {},
      "outputs": [
        {
          "name": "stdout",
          "output_type": "stream",
          "text": [
            "*** PREVISIONS OF DTC WITH 208 LEAF NODES\n",
            "[1 3 4 ... 4 7 1]\n",
            "\n",
            "*** SCORE ***\n",
            "0.7052971294071971\n",
            "\n",
            "*** CONFUSION MATRIX ***\n",
            "[[161536      0   2649   6358      7     47  12141]\n",
            " [  7268      0    743   3132      3     11   3328]\n",
            " [  4169      0  25912  13743   1225    470  19412]\n",
            " [ 10404      0   7452  70884     23     59  17934]\n",
            " [  1916      0   2844   6357   1393     96   3014]\n",
            " [   812      0   1327   2967    762    972   7483]\n",
            " [  9369      0   7369  14128    260    748 146227]]\n"
          ]
        }
      ],
      "source": [
        "# Evaluate the model\n",
        "prev_test = clf.predict(X_test)\n",
        "print(\"*** PREVISIONS OF DTC WITH {} LEAF NODES\".format(max_leaf_nodes))\n",
        "print(prev_test)\n",
        "\n",
        "scoretree = clf.score(X_test,Y_test)\n",
        "print(\"\\n*** SCORE ***\")\n",
        "print(scoretree)\n",
        "\n",
        "cm=confusion_matrix(Y_test,prev_test) # confusion matrix between expected and obtained values\n",
        "print(\"\\n*** CONFUSION MATRIX ***\")\n",
        "print(cm)"
      ]
    },
    {
      "cell_type": "code",
      "execution_count": 9,
      "metadata": {},
      "outputs": [
        {
          "name": "stdout",
          "output_type": "stream",
          "text": [
            "Learn\n",
            "[ 0  1  2  5  6  7  8 10 11]\n",
            "test\n",
            "[3 4 9]\n",
            "Learn\n",
            "[0 1 2 3 4 5 6 7 9]\n",
            "test\n",
            "[ 8 10 11]\n",
            "Learn\n",
            "[ 1  3  4  5  7  8  9 10 11]\n",
            "test\n",
            "[0 2 6]\n",
            "Learn\n",
            "[ 0  2  3  4  6  8  9 10 11]\n",
            "test\n",
            "[1 5 7]\n"
          ]
        }
      ],
      "source": [
        "# To see the effects of sharing ...\n",
        "\n",
        "from sklearn.model_selection import KFold\n",
        "kf=KFold(n_splits=4, shuffle=True) # validation sharing\n",
        "XXX = X_train[:12,:]  # Only take first 12 rows\n",
        "for learn,test in kf.split(XXX): # loop on different validation shares\n",
        "  print(\"Learn\")\n",
        "  print(learn)\n",
        "  print(\"test\")\n",
        "  print(test)"
      ]
    },
    {
      "cell_type": "code",
      "execution_count": 10,
      "metadata": {},
      "outputs": [
        {
          "name": "stdout",
          "output_type": "stream",
          "text": [
            "[2.8093621936964657, 2.8099386203666397, 2.81074681149911, 2.812687052632774, 2.815046242055134, 2.815601869005836, 2.813851793531175, 2.8149957316289593, 2.8174381156473887, 2.8180501984498054, 2.8193902466256846, 2.8177946747626934, 2.818897020581441, 2.8202935194178815, 2.8199993632395888, 2.818380017805479, 2.8213869490935584, 2.8206055002368404, 2.8234193022553233, 2.8213334629617544]\n",
            "19\n"
          ]
        }
      ],
      "source": [
        "from sklearn import neighbors\n",
        "scores=[]\n",
        "for k in range(190,210):  # Differents values of K to test\n",
        "    score=0\n",
        "    clf=tree.DecisionTreeClassifier(max_leaf_nodes=k,criterion='entropy')\n",
        "    for learn,test in kf.split(X_train): # Loop on differents validation sharings\n",
        "        X_app=X_train[learn]\n",
        "        Y_app=Y_train[learn]\n",
        "        clf.fit(X_app,Y_app)\n",
        "        X_val=X_train[test]\n",
        "        Y_val=Y_train[test]\n",
        "        score+=clf.score(X_val,Y_val)\n",
        "    scores.append(score)\n",
        "print(scores)\n",
        "k_opt=scores.index(max(scores)) + 1  # Optimal value for k\n",
        "print(k_opt)"
      ]
    }
  ],
  "metadata": {
    "colab": {
      "collapsed_sections": [],
      "name": "DecisionTreeExample.ipynb",
      "provenance": []
    },
    "interpreter": {
      "hash": "a39c75215214a0c56e27045d7dad723d3913eeb2c88109ae83ee6a2d98838bf1"
    },
    "kernelspec": {
      "display_name": "Python 3.8.12 64-bit ('Work': conda)",
      "name": "python3"
    },
    "language_info": {
      "codemirror_mode": {
        "name": "ipython",
        "version": 3
      },
      "file_extension": ".py",
      "mimetype": "text/x-python",
      "name": "python",
      "nbconvert_exporter": "python",
      "pygments_lexer": "ipython3",
      "version": "3.8.10"
    }
  },
  "nbformat": 4,
  "nbformat_minor": 2
}
