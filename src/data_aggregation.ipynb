{
 "cells": [
  {
   "cell_type": "code",
   "execution_count": 1,
   "metadata": {},
   "outputs": [
    {
     "name": "stdout",
     "output_type": "stream",
     "text": [
      "\n",
      "================================\n",
      "        Data pre-processing\n",
      "         data aggregation\n",
      "================================\n",
      "\n",
      "(See the project documentation for more info)\n",
      "\n",
      "The goal is to process data before using it to train ML algorithms :\n",
      "- Import of all CSV files for raw data from individuals from 1 to 15\n",
      "- Extraction of accelerations\n",
      "\n"
     ]
    }
   ],
   "source": [
    "\"\"\"\n",
    "================================\n",
    "        Data pre-processing\n",
    "         data aggregation\n",
    "================================\n",
    "\n",
    "(See the project documentation for more info)\n",
    "\n",
    "The goal is to process data before using it to train ML algorithms :\n",
    "- Import of all CSV files for raw data from individuals from 1 to 15\n",
    "- Extraction of accelerations\n",
    "\"\"\"\n",
    "print(__doc__)"
   ]
  },
  {
   "cell_type": "code",
   "execution_count": 2,
   "metadata": {},
   "outputs": [],
   "source": [
    "# Imports statements\n",
    "\n",
    "import pandas as pd\n",
    "import numpy as np\n",
    "# from math import cos, sin\n",
    "from utils.colorpalette import black, red, blue, green, yellow, pink, brown, violet\n",
    "from utils.activities import activities_labels\n",
    "import matplotlib.pyplot as plt\n",
    "from matplotlib.lines import Line2D "
   ]
  },
  {
   "cell_type": "code",
   "execution_count": 3,
   "metadata": {},
   "outputs": [
    {
     "name": "stdout",
     "output_type": "stream",
     "text": [
      "*** RAW DATA 1 HEAD\n",
      "   0     1     2     3  4\n",
      "0  0  1502  2215  2153  1\n",
      "1  1  1667  2072  2047  1\n",
      "2  2  1611  1957  1906  1\n",
      "3  3  1601  1939  1831  1\n",
      "4  4  1643  1965  1879  1\n",
      "*** RAW DATA 2 HEAD\n",
      "   0     1     2     3  4\n",
      "0  0  1984  1998  1645  1\n",
      "1  1  1984  2003  1653  1\n",
      "2  2  1987  2002  1648  1\n",
      "3  3  1990  2001  1650  1\n",
      "4  4  1992  2000  1657  1\n",
      "*** RAW DATA 3 HEAD\n",
      "   0     1     2     3  4\n",
      "0  0  1928  2382  1943  1\n",
      "1  1  1920  2375  1944  1\n",
      "2  2  1919  2374  1942  1\n",
      "3  3  1923  2382  1949  1\n",
      "4  4  1921  2374  1949  1\n",
      "*** RAW DATA 4 HEAD\n",
      "   0     1     2     3  4\n",
      "0  0  2045  2326  1833  1\n",
      "1  1  2041  2317  1832  1\n",
      "2  2  2046  2323  1836  1\n",
      "3  3  2046  2339  1833  1\n",
      "4  4  2045  2335  1829  1\n",
      "*** RAW DATA 5 HEAD\n",
      "   0     1     2     3  4\n",
      "0  0  1915  2337  1906  1\n",
      "1  1  1912  2341  1886  1\n",
      "2  2  1825  2281  1845  1\n",
      "3  3  1900  2440  1922  1\n",
      "4  4  1945  2299  1869  1\n",
      "*** RAW DATA 6 HEAD\n",
      "   0     1     2     3  4\n",
      "0  0  1953  1979  1629  1\n",
      "1  1  1950  1987  1640  1\n",
      "2  2  1957  1979  1635  1\n",
      "3  3  1958  1977  1639  1\n",
      "4  4  1954  1981  1641  1\n",
      "*** RAW DATA 7 HEAD\n",
      "   0     1     2     3  4\n",
      "0  0  1892  2279  1781  1\n",
      "1  1  1895  2283  1785  1\n",
      "2  2  1889  2279  1794  1\n",
      "3  3  1892  2276  1794  1\n",
      "4  4  1892  2280  1787  1\n",
      "*** RAW DATA 8 HEAD\n",
      "   0     1     2     3  4\n",
      "0  0  2057  2043  1665  1\n",
      "1  1  2045  2039  1666  1\n",
      "2  2  2042  2036  1662  1\n",
      "3  3  2045  2042  1660  1\n",
      "4  4  2043  2037  1660  1\n",
      "*** RAW DATA 9 HEAD\n",
      "   0     1     2     3  4\n",
      "0  0  2287  2948  2189  1\n",
      "1  1  2249  2677  2046  1\n",
      "2  2  2270  2568  2005  1\n",
      "3  3  2222  2565  2003  1\n",
      "4  4  2235  2571  2074  1\n",
      "*** RAW DATA 10 HEAD\n",
      "   0     1     2     3  4\n",
      "0  0  2082  2165  1702  1\n",
      "1  1  2077  2160  1703  1\n",
      "2  2  2082  2168  1704  1\n",
      "3  3  2083  2159  1703  1\n",
      "4  4  2085  2162  1706  1\n",
      "*** RAW DATA 11 HEAD\n",
      "   0     1     2     3  4\n",
      "0  0  1983  2438  1825  1\n",
      "1  1  1948  2442  1797  1\n",
      "2  2  1927  2388  1784  1\n",
      "3  3  1960  2319  1831  1\n",
      "4  4  1967  2274  1871  1\n",
      "*** RAW DATA 12 HEAD\n",
      "   0     1     2     3  4\n",
      "0  0  1922  2388  1898  1\n",
      "1  1  1880  2327  1832  1\n",
      "2  2  1847  2281  1842  1\n",
      "3  3  1859  2330  1869  1\n",
      "4  4  1931  2306  1853  1\n",
      "*** RAW DATA 13 HEAD\n",
      "   0     1     2     3  4\n",
      "0  0  1820  2181  1589  1\n",
      "1  1  1910  2127  1696  1\n",
      "2  2  1965  2088  1841  1\n",
      "3  3  1996  2135  1529  1\n",
      "4  4  1944  2082  1653  1\n",
      "*** RAW DATA 14 HEAD\n",
      "   0     1     2     3  4\n",
      "0  0  1955  2302  1766  1\n",
      "1  1  1954  2293  1770  1\n",
      "2  2  1959  2298  1780  1\n",
      "3  3  1954  2299  1774  1\n",
      "4  4  1952  2301  1772  1\n",
      "*** RAW DATA 15 HEAD\n",
      "   0     1     2     3  4\n",
      "0  0  1866  2390  2282  1\n",
      "1  1  1861  2367  2278  1\n",
      "2  2  1837  2387  2317  1\n",
      "3  3  1819  2409  2331  1\n",
      "4  4  1784  2407  2280  1\n"
     ]
    }
   ],
   "source": [
    "# Import data into memory\n",
    "raw_data = []\n",
    "for k in range(1,16):\n",
    "    raw_data.append(pd.read_csv('../data/{}.csv'.format(k),header=None,delimiter=',').astype(int))\n",
    "    print(\"*** RAW DATA {} HEAD\".format(k))\n",
    "    print(raw_data[k-1].head())"
   ]
  },
  {
   "cell_type": "code",
   "execution_count": 4,
   "metadata": {},
   "outputs": [],
   "source": [
    "# Prepare further plotting activities\n",
    "color_map = np.array([black, red, blue, green, yellow, pink, brown, violet])\n",
    "axe_name = ['X', 'Y', 'Z']\n",
    "activities = []\n",
    "x_min, x_max = [], []\n",
    "for k in range(1,16):\n",
    "    activities.append(np.array(raw_data[k-1][4]-1)) # -1 is here to shift the table correctly to work with the color_map\n",
    "    x_min.append(raw_data[k-1][0].min() - 1)\n",
    "    x_max.append(raw_data[k-1][0].max() + 1)"
   ]
  },
  {
   "cell_type": "code",
   "execution_count": 5,
   "metadata": {},
   "outputs": [
    {
     "ename": "IndexError",
     "evalue": "invalid index to scalar variable.",
     "output_type": "error",
     "traceback": [
      "\u001b[0;31m---------------------------------------------------------------------------\u001b[0m",
      "\u001b[0;31mIndexError\u001b[0m                                Traceback (most recent call last)",
      "\u001b[0;32m/tmp/ipykernel_9578/304059703.py\u001b[0m in \u001b[0;36m<module>\u001b[0;34m\u001b[0m\n\u001b[1;32m     11\u001b[0m         \u001b[0my_min\u001b[0m\u001b[0;34m.\u001b[0m\u001b[0mappend\u001b[0m\u001b[0;34m(\u001b[0m\u001b[0mraw_data\u001b[0m\u001b[0;34m[\u001b[0m\u001b[0mk\u001b[0m\u001b[0;34m-\u001b[0m\u001b[0;36m1\u001b[0m\u001b[0;34m]\u001b[0m\u001b[0;34m[\u001b[0m\u001b[0mi\u001b[0m\u001b[0;34m+\u001b[0m\u001b[0;36m1\u001b[0m\u001b[0;34m]\u001b[0m\u001b[0;34m.\u001b[0m\u001b[0mmin\u001b[0m\u001b[0;34m(\u001b[0m\u001b[0;34m)\u001b[0m \u001b[0;34m-\u001b[0m \u001b[0;36m1\u001b[0m\u001b[0;34m)\u001b[0m\u001b[0;34m\u001b[0m\u001b[0;34m\u001b[0m\u001b[0m\n\u001b[1;32m     12\u001b[0m         \u001b[0my_max\u001b[0m\u001b[0;34m.\u001b[0m\u001b[0mappend\u001b[0m\u001b[0;34m(\u001b[0m\u001b[0mraw_data\u001b[0m\u001b[0;34m[\u001b[0m\u001b[0mk\u001b[0m\u001b[0;34m-\u001b[0m\u001b[0;36m1\u001b[0m\u001b[0;34m]\u001b[0m\u001b[0;34m[\u001b[0m\u001b[0mi\u001b[0m\u001b[0;34m+\u001b[0m\u001b[0;36m1\u001b[0m\u001b[0;34m]\u001b[0m\u001b[0;34m.\u001b[0m\u001b[0mmax\u001b[0m\u001b[0;34m(\u001b[0m\u001b[0;34m)\u001b[0m \u001b[0;34m+\u001b[0m \u001b[0;36m1\u001b[0m\u001b[0;34m)\u001b[0m\u001b[0;34m\u001b[0m\u001b[0;34m\u001b[0m\u001b[0m\n\u001b[0;32m---> 13\u001b[0;31m         \u001b[0mxx_tmp\u001b[0m\u001b[0;34m,\u001b[0m \u001b[0myy_tmp\u001b[0m \u001b[0;34m=\u001b[0m \u001b[0mnp\u001b[0m\u001b[0;34m.\u001b[0m\u001b[0mmeshgrid\u001b[0m\u001b[0;34m(\u001b[0m\u001b[0mnp\u001b[0m\u001b[0;34m.\u001b[0m\u001b[0marange\u001b[0m\u001b[0;34m(\u001b[0m\u001b[0mx_min\u001b[0m\u001b[0;34m[\u001b[0m\u001b[0mk\u001b[0m\u001b[0;34m-\u001b[0m\u001b[0;36m1\u001b[0m\u001b[0;34m]\u001b[0m\u001b[0;34m,\u001b[0m \u001b[0mx_max\u001b[0m\u001b[0;34m[\u001b[0m\u001b[0mk\u001b[0m\u001b[0;34m-\u001b[0m\u001b[0;36m1\u001b[0m\u001b[0;34m]\u001b[0m\u001b[0;34m,\u001b[0m \u001b[0;36m1000\u001b[0m\u001b[0;34m)\u001b[0m\u001b[0;34m,\u001b[0m\u001b[0mnp\u001b[0m\u001b[0;34m.\u001b[0m\u001b[0marange\u001b[0m\u001b[0;34m(\u001b[0m\u001b[0my_min\u001b[0m\u001b[0;34m[\u001b[0m\u001b[0mk\u001b[0m\u001b[0;34m-\u001b[0m\u001b[0;36m1\u001b[0m\u001b[0;34m]\u001b[0m\u001b[0;34m[\u001b[0m\u001b[0mi\u001b[0m\u001b[0;34m]\u001b[0m\u001b[0;34m,\u001b[0m \u001b[0my_max\u001b[0m\u001b[0;34m[\u001b[0m\u001b[0mk\u001b[0m\u001b[0;34m-\u001b[0m\u001b[0;36m1\u001b[0m\u001b[0;34m]\u001b[0m\u001b[0;34m[\u001b[0m\u001b[0mi\u001b[0m\u001b[0;34m]\u001b[0m\u001b[0;34m,\u001b[0m \u001b[0;36m100\u001b[0m\u001b[0;34m)\u001b[0m\u001b[0;34m)\u001b[0m\u001b[0;34m\u001b[0m\u001b[0;34m\u001b[0m\u001b[0m\n\u001b[0m\u001b[1;32m     14\u001b[0m         \u001b[0mxx\u001b[0m\u001b[0;34m.\u001b[0m\u001b[0mappend\u001b[0m\u001b[0;34m(\u001b[0m\u001b[0mxx_tmp\u001b[0m\u001b[0;34m)\u001b[0m\u001b[0;34m\u001b[0m\u001b[0;34m\u001b[0m\u001b[0m\n\u001b[1;32m     15\u001b[0m         \u001b[0myy\u001b[0m\u001b[0;34m.\u001b[0m\u001b[0mappend\u001b[0m\u001b[0;34m(\u001b[0m\u001b[0myy_tmp\u001b[0m\u001b[0;34m)\u001b[0m\u001b[0;34m\u001b[0m\u001b[0;34m\u001b[0m\u001b[0m\n",
      "\u001b[0;31mIndexError\u001b[0m: invalid index to scalar variable."
     ]
    }
   ],
   "source": [
    "# # Show data before processing\n",
    "# y_min, y_max, xx, yy, fig, subplot  = [], [], [], [], [], []\n",
    "# legend = []\n",
    "# for k in range(1,16):\n",
    "#     legend.append([])\n",
    "#     fig.append([])\n",
    "#     subplot.append([])\n",
    "#     for activity, color in zip(activities_labels, color_map):\n",
    "#         legend[k-1].append(Line2D([0], [0], marker='o', label=activity, ls='None', markerfacecolor=color, markeredgecolor='k'))\n",
    "#     for i in range(0,3):\n",
    "#         y_min.append(raw_data[k-1][i+1].min() - 1)\n",
    "#         y_max.append(raw_data[k-1][i+1].max() + 1)\n",
    "#         xx_tmp, yy_tmp = np.meshgrid(np.arange(x_min[k-1], x_max[k-1], 1000),np.arange(y_min[k-1][i], y_max[k-1][i], 100))\n",
    "#         xx.append(xx_tmp)\n",
    "#         yy.append(yy_tmp)\n",
    "#         fig[k-1].append(plt.figure())\n",
    "#         subplot[k-1].append(fig[k-1][i].add_subplot(111))\n",
    "#         subplot[k-1][i].scatter(raw_data[k-1][0], raw_data[k-1][i+1], s=1,c=color_map[activities[k-1]])\n",
    "#         subplot[k-1][i].set_title('Acceleration on ' + axe_name[i])\n",
    "#     legend[k-1] = plt.legend(handles=legend, loc='upper center', bbox_to_anchor=(1, 2), title='Activities')\n",
    "#     plt.show()"
   ]
  },
  {
   "cell_type": "code",
   "execution_count": 8,
   "metadata": {},
   "outputs": [],
   "source": [
    "#Prepare for processing\n",
    "clean_data = []\n"
   ]
  },
  {
   "cell_type": "code",
   "execution_count": 9,
   "metadata": {},
   "outputs": [],
   "source": [
    "# Zeros suppression of activities\n",
    "for k in range(0,15):\n",
    "    np_raw_data = np.array(raw_data[k])\n",
    "    bool_mask_on_not_act_0 = (np_raw_data[:,4] != 0) # Boolean mask to only select rows not concerning activity 0\n",
    "    raw_data[k] = np_raw_data[bool_mask_on_not_act_0]\n"
   ]
  },
  {
   "cell_type": "code",
   "execution_count": null,
   "metadata": {},
   "outputs": [],
   "source": [
    "# # Show activity 1 data after transitory regime suppression on activity 1\n",
    "# activities = np.array(clean_data[:,4]-1, dtype=int) # -1 is here to shift the table correctly to work with the color_map\n",
    "\n",
    "# x_min, x_max = clean_data[0].min() - 1, clean_data[0].max() + 1\n",
    "# y_min, y_max, xx, yy, fig, subplot  = [], [], [], [], [], []\n",
    "# legend = []\n",
    "# for activity, color in zip(activities_labels, color_map):\n",
    "#     legend.append(Line2D([0], [0], marker='o', label=activity, ls='None', markerfacecolor=color, markeredgecolor='k'))\n",
    "# for k in range(0,3):\n",
    "#     y_min.append(clean_data[k+1].min() - 1)\n",
    "#     y_max.append(clean_data[k+1].max() + 1)\n",
    "#     xx_tmp, yy_tmp = np.meshgrid(np.arange(x_min, x_max, 1000),np.arange(y_min[k], y_max[k], 100))\n",
    "#     xx.append(xx_tmp)\n",
    "#     yy.append(yy_tmp)\n",
    "#     fig.append(plt.figure())\n",
    "#     subplot.append(fig[k].add_subplot(111))\n",
    "#     subplot[k].scatter(clean_data[:,0], clean_data[:,k+1], s=1,c=color_map[activities])\n",
    "#     subplot[k].set_title('Acceleration on ' + axe_name[k])\n",
    "# legend = plt.legend(handles=legend, loc='upper center', bbox_to_anchor=(1, 2), title='Activities')\n",
    "# plt.show()"
   ]
  },
  {
   "cell_type": "code",
   "execution_count": 10,
   "metadata": {},
   "outputs": [],
   "source": [
    "# raw datas concatenation\n",
    "clean_data = np.concatenate((raw_data[0],\n",
    "                            raw_data[1],\n",
    "                            raw_data[2],\n",
    "                            raw_data[3],\n",
    "                            raw_data[4],\n",
    "                            raw_data[5],\n",
    "                            raw_data[6],\n",
    "                            raw_data[7],\n",
    "                            raw_data[8],\n",
    "                            raw_data[9],\n",
    "                            raw_data[10],\n",
    "                            raw_data[11],\n",
    "                            raw_data[12],\n",
    "                            raw_data[13],\n",
    "                            raw_data[14],\n",
    "                            ), axis=0)"
   ]
  },
  {
   "cell_type": "code",
   "execution_count": 11,
   "metadata": {},
   "outputs": [],
   "source": [
    "# Push data changes into new csv file\n",
    "df = pd.DataFrame(clean_data)\n",
    "df.to_csv(\"../data/cleaned_data/concatenated_data_1_to_15.csv\",index=False, header=None)"
   ]
  }
 ],
 "metadata": {
  "interpreter": {
   "hash": "31f2aee4e71d21fbe5cf8b01ff0e069b9275f58929596ceb00d14d90e3e16cd6"
  },
  "kernelspec": {
   "display_name": "Python 3.8.10 64-bit",
   "language": "python",
   "name": "python3"
  },
  "language_info": {
   "codemirror_mode": {
    "name": "ipython",
    "version": 3
   },
   "file_extension": ".py",
   "mimetype": "text/x-python",
   "name": "python",
   "nbconvert_exporter": "python",
   "pygments_lexer": "ipython3",
   "version": "3.8.10"
  },
  "orig_nbformat": 4
 },
 "nbformat": 4,
 "nbformat_minor": 2
}
